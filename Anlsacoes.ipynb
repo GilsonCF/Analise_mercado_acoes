{
 "cells": [
  {
   "cell_type": "code",
   "execution_count": 1,
   "id": "b452535a",
   "metadata": {},
   "outputs": [],
   "source": [
    "import pandas as pd\n",
    "import matplotlib.pyplot as plt\n",
    "from statsmodels.tsa.seasonal import seasonal_decompose\n",
    "import yfinance as yf"
   ]
  },
  {
   "cell_type": "markdown",
   "id": "8ead301c",
   "metadata": {},
   "source": [
    "# 1) Aquisição dos dados de ações"
   ]
  },
  {
   "cell_type": "code",
   "execution_count": 6,
   "id": "7ef6c225",
   "metadata": {},
   "outputs": [],
   "source": [
    "ticket = yf.Ticker('^BVSP')\n",
    "#df = ticket.history(period='3y', interval='1d')\n",
    "df = ticket.history(interval='1d' , start='2021-01-01' , end='2024-01-01')"
   ]
  },
  {
   "cell_type": "code",
   "execution_count": 4,
   "id": "945946f4",
   "metadata": {
    "scrolled": false
   },
   "outputs": [
    {
     "data": {
      "text/html": [
       "<div>\n",
       "<style scoped>\n",
       "    .dataframe tbody tr th:only-of-type {\n",
       "        vertical-align: middle;\n",
       "    }\n",
       "\n",
       "    .dataframe tbody tr th {\n",
       "        vertical-align: top;\n",
       "    }\n",
       "\n",
       "    .dataframe thead th {\n",
       "        text-align: right;\n",
       "    }\n",
       "</style>\n",
       "<table border=\"1\" class=\"dataframe\">\n",
       "  <thead>\n",
       "    <tr style=\"text-align: right;\">\n",
       "      <th></th>\n",
       "      <th>Open</th>\n",
       "      <th>High</th>\n",
       "      <th>Low</th>\n",
       "      <th>Close</th>\n",
       "      <th>Volume</th>\n",
       "      <th>Dividends</th>\n",
       "      <th>Stock Splits</th>\n",
       "    </tr>\n",
       "    <tr>\n",
       "      <th>Date</th>\n",
       "      <th></th>\n",
       "      <th></th>\n",
       "      <th></th>\n",
       "      <th></th>\n",
       "      <th></th>\n",
       "      <th></th>\n",
       "      <th></th>\n",
       "    </tr>\n",
       "  </thead>\n",
       "  <tbody>\n",
       "    <tr>\n",
       "      <th>2021-01-04 00:00:00-03:00</th>\n",
       "      <td>119024.0</td>\n",
       "      <td>120354.0</td>\n",
       "      <td>118062.0</td>\n",
       "      <td>118558.0</td>\n",
       "      <td>8741400</td>\n",
       "      <td>0.0</td>\n",
       "      <td>0.0</td>\n",
       "    </tr>\n",
       "    <tr>\n",
       "      <th>2021-01-05 00:00:00-03:00</th>\n",
       "      <td>118835.0</td>\n",
       "      <td>119790.0</td>\n",
       "      <td>116756.0</td>\n",
       "      <td>119223.0</td>\n",
       "      <td>9257100</td>\n",
       "      <td>0.0</td>\n",
       "      <td>0.0</td>\n",
       "    </tr>\n",
       "    <tr>\n",
       "      <th>2021-01-06 00:00:00-03:00</th>\n",
       "      <td>119377.0</td>\n",
       "      <td>120924.0</td>\n",
       "      <td>118917.0</td>\n",
       "      <td>119851.0</td>\n",
       "      <td>11638200</td>\n",
       "      <td>0.0</td>\n",
       "      <td>0.0</td>\n",
       "    </tr>\n",
       "    <tr>\n",
       "      <th>2021-01-07 00:00:00-03:00</th>\n",
       "      <td>119103.0</td>\n",
       "      <td>121983.0</td>\n",
       "      <td>119101.0</td>\n",
       "      <td>121956.0</td>\n",
       "      <td>11774800</td>\n",
       "      <td>0.0</td>\n",
       "      <td>0.0</td>\n",
       "    </tr>\n",
       "    <tr>\n",
       "      <th>2021-01-08 00:00:00-03:00</th>\n",
       "      <td>122387.0</td>\n",
       "      <td>125324.0</td>\n",
       "      <td>122386.0</td>\n",
       "      <td>125077.0</td>\n",
       "      <td>11085800</td>\n",
       "      <td>0.0</td>\n",
       "      <td>0.0</td>\n",
       "    </tr>\n",
       "    <tr>\n",
       "      <th>...</th>\n",
       "      <td>...</td>\n",
       "      <td>...</td>\n",
       "      <td>...</td>\n",
       "      <td>...</td>\n",
       "      <td>...</td>\n",
       "      <td>...</td>\n",
       "      <td>...</td>\n",
       "    </tr>\n",
       "    <tr>\n",
       "      <th>2023-12-21 00:00:00-03:00</th>\n",
       "      <td>130826.0</td>\n",
       "      <td>132277.0</td>\n",
       "      <td>130822.0</td>\n",
       "      <td>132182.0</td>\n",
       "      <td>8681000</td>\n",
       "      <td>0.0</td>\n",
       "      <td>0.0</td>\n",
       "    </tr>\n",
       "    <tr>\n",
       "      <th>2023-12-22 00:00:00-03:00</th>\n",
       "      <td>132553.0</td>\n",
       "      <td>133035.0</td>\n",
       "      <td>132094.0</td>\n",
       "      <td>132753.0</td>\n",
       "      <td>8231100</td>\n",
       "      <td>0.0</td>\n",
       "      <td>0.0</td>\n",
       "    </tr>\n",
       "    <tr>\n",
       "      <th>2023-12-26 00:00:00-03:00</th>\n",
       "      <td>132753.0</td>\n",
       "      <td>133645.0</td>\n",
       "      <td>132753.0</td>\n",
       "      <td>133533.0</td>\n",
       "      <td>0</td>\n",
       "      <td>0.0</td>\n",
       "      <td>0.0</td>\n",
       "    </tr>\n",
       "    <tr>\n",
       "      <th>2023-12-27 00:00:00-03:00</th>\n",
       "      <td>133523.0</td>\n",
       "      <td>134195.0</td>\n",
       "      <td>133328.0</td>\n",
       "      <td>134194.0</td>\n",
       "      <td>6168200</td>\n",
       "      <td>0.0</td>\n",
       "      <td>0.0</td>\n",
       "    </tr>\n",
       "    <tr>\n",
       "      <th>2023-12-28 00:00:00-03:00</th>\n",
       "      <td>134194.0</td>\n",
       "      <td>134392.0</td>\n",
       "      <td>133832.0</td>\n",
       "      <td>134185.0</td>\n",
       "      <td>7812700</td>\n",
       "      <td>0.0</td>\n",
       "      <td>0.0</td>\n",
       "    </tr>\n",
       "  </tbody>\n",
       "</table>\n",
       "<p>745 rows × 7 columns</p>\n",
       "</div>"
      ],
      "text/plain": [
       "                               Open      High       Low     Close    Volume  \\\n",
       "Date                                                                          \n",
       "2021-01-04 00:00:00-03:00  119024.0  120354.0  118062.0  118558.0   8741400   \n",
       "2021-01-05 00:00:00-03:00  118835.0  119790.0  116756.0  119223.0   9257100   \n",
       "2021-01-06 00:00:00-03:00  119377.0  120924.0  118917.0  119851.0  11638200   \n",
       "2021-01-07 00:00:00-03:00  119103.0  121983.0  119101.0  121956.0  11774800   \n",
       "2021-01-08 00:00:00-03:00  122387.0  125324.0  122386.0  125077.0  11085800   \n",
       "...                             ...       ...       ...       ...       ...   \n",
       "2023-12-21 00:00:00-03:00  130826.0  132277.0  130822.0  132182.0   8681000   \n",
       "2023-12-22 00:00:00-03:00  132553.0  133035.0  132094.0  132753.0   8231100   \n",
       "2023-12-26 00:00:00-03:00  132753.0  133645.0  132753.0  133533.0         0   \n",
       "2023-12-27 00:00:00-03:00  133523.0  134195.0  133328.0  134194.0   6168200   \n",
       "2023-12-28 00:00:00-03:00  134194.0  134392.0  133832.0  134185.0   7812700   \n",
       "\n",
       "                           Dividends  Stock Splits  \n",
       "Date                                                \n",
       "2021-01-04 00:00:00-03:00        0.0           0.0  \n",
       "2021-01-05 00:00:00-03:00        0.0           0.0  \n",
       "2021-01-06 00:00:00-03:00        0.0           0.0  \n",
       "2021-01-07 00:00:00-03:00        0.0           0.0  \n",
       "2021-01-08 00:00:00-03:00        0.0           0.0  \n",
       "...                              ...           ...  \n",
       "2023-12-21 00:00:00-03:00        0.0           0.0  \n",
       "2023-12-22 00:00:00-03:00        0.0           0.0  \n",
       "2023-12-26 00:00:00-03:00        0.0           0.0  \n",
       "2023-12-27 00:00:00-03:00        0.0           0.0  \n",
       "2023-12-28 00:00:00-03:00        0.0           0.0  \n",
       "\n",
       "[745 rows x 7 columns]"
      ]
     },
     "execution_count": 4,
     "metadata": {},
     "output_type": "execute_result"
    }
   ],
   "source": [
    "df"
   ]
  },
  {
   "cell_type": "code",
   "execution_count": 5,
   "id": "b2455e73",
   "metadata": {},
   "outputs": [
    {
     "data": {
      "text/html": [
       "<div>\n",
       "<style scoped>\n",
       "    .dataframe tbody tr th:only-of-type {\n",
       "        vertical-align: middle;\n",
       "    }\n",
       "\n",
       "    .dataframe tbody tr th {\n",
       "        vertical-align: top;\n",
       "    }\n",
       "\n",
       "    .dataframe thead th {\n",
       "        text-align: right;\n",
       "    }\n",
       "</style>\n",
       "<table border=\"1\" class=\"dataframe\">\n",
       "  <thead>\n",
       "    <tr style=\"text-align: right;\">\n",
       "      <th></th>\n",
       "      <th>Open</th>\n",
       "      <th>High</th>\n",
       "      <th>Low</th>\n",
       "      <th>Close</th>\n",
       "      <th>Volume</th>\n",
       "      <th>Dividends</th>\n",
       "      <th>Stock Splits</th>\n",
       "    </tr>\n",
       "    <tr>\n",
       "      <th>Date</th>\n",
       "      <th></th>\n",
       "      <th></th>\n",
       "      <th></th>\n",
       "      <th></th>\n",
       "      <th></th>\n",
       "      <th></th>\n",
       "      <th></th>\n",
       "    </tr>\n",
       "  </thead>\n",
       "  <tbody>\n",
       "    <tr>\n",
       "      <th>2023-12-21 00:00:00-03:00</th>\n",
       "      <td>130826.0</td>\n",
       "      <td>132277.0</td>\n",
       "      <td>130822.0</td>\n",
       "      <td>132182.0</td>\n",
       "      <td>8681000</td>\n",
       "      <td>0.0</td>\n",
       "      <td>0.0</td>\n",
       "    </tr>\n",
       "    <tr>\n",
       "      <th>2023-12-22 00:00:00-03:00</th>\n",
       "      <td>132553.0</td>\n",
       "      <td>133035.0</td>\n",
       "      <td>132094.0</td>\n",
       "      <td>132753.0</td>\n",
       "      <td>8231100</td>\n",
       "      <td>0.0</td>\n",
       "      <td>0.0</td>\n",
       "    </tr>\n",
       "    <tr>\n",
       "      <th>2023-12-26 00:00:00-03:00</th>\n",
       "      <td>132753.0</td>\n",
       "      <td>133645.0</td>\n",
       "      <td>132753.0</td>\n",
       "      <td>133533.0</td>\n",
       "      <td>0</td>\n",
       "      <td>0.0</td>\n",
       "      <td>0.0</td>\n",
       "    </tr>\n",
       "    <tr>\n",
       "      <th>2023-12-27 00:00:00-03:00</th>\n",
       "      <td>133523.0</td>\n",
       "      <td>134195.0</td>\n",
       "      <td>133328.0</td>\n",
       "      <td>134194.0</td>\n",
       "      <td>6168200</td>\n",
       "      <td>0.0</td>\n",
       "      <td>0.0</td>\n",
       "    </tr>\n",
       "    <tr>\n",
       "      <th>2023-12-28 00:00:00-03:00</th>\n",
       "      <td>134194.0</td>\n",
       "      <td>134392.0</td>\n",
       "      <td>133832.0</td>\n",
       "      <td>134185.0</td>\n",
       "      <td>7812700</td>\n",
       "      <td>0.0</td>\n",
       "      <td>0.0</td>\n",
       "    </tr>\n",
       "  </tbody>\n",
       "</table>\n",
       "</div>"
      ],
      "text/plain": [
       "                               Open      High       Low     Close   Volume  \\\n",
       "Date                                                                         \n",
       "2023-12-21 00:00:00-03:00  130826.0  132277.0  130822.0  132182.0  8681000   \n",
       "2023-12-22 00:00:00-03:00  132553.0  133035.0  132094.0  132753.0  8231100   \n",
       "2023-12-26 00:00:00-03:00  132753.0  133645.0  132753.0  133533.0        0   \n",
       "2023-12-27 00:00:00-03:00  133523.0  134195.0  133328.0  134194.0  6168200   \n",
       "2023-12-28 00:00:00-03:00  134194.0  134392.0  133832.0  134185.0  7812700   \n",
       "\n",
       "                           Dividends  Stock Splits  \n",
       "Date                                                \n",
       "2023-12-21 00:00:00-03:00        0.0           0.0  \n",
       "2023-12-22 00:00:00-03:00        0.0           0.0  \n",
       "2023-12-26 00:00:00-03:00        0.0           0.0  \n",
       "2023-12-27 00:00:00-03:00        0.0           0.0  \n",
       "2023-12-28 00:00:00-03:00        0.0           0.0  "
      ]
     },
     "execution_count": 5,
     "metadata": {},
     "output_type": "execute_result"
    }
   ],
   "source": [
    "df.tail(5)"
   ]
  },
  {
   "cell_type": "markdown",
   "id": "719f1797",
   "metadata": {},
   "source": [
    "# 2) Decomposição de uma série temporal"
   ]
  },
  {
   "cell_type": "code",
   "execution_count": 18,
   "id": "3cbb5cdd",
   "metadata": {},
   "outputs": [
    {
     "data": {
      "text/html": [
       "<div>\n",
       "<style scoped>\n",
       "    .dataframe tbody tr th:only-of-type {\n",
       "        vertical-align: middle;\n",
       "    }\n",
       "\n",
       "    .dataframe tbody tr th {\n",
       "        vertical-align: top;\n",
       "    }\n",
       "\n",
       "    .dataframe thead th {\n",
       "        text-align: right;\n",
       "    }\n",
       "</style>\n",
       "<table border=\"1\" class=\"dataframe\">\n",
       "  <thead>\n",
       "    <tr style=\"text-align: right;\">\n",
       "      <th></th>\n",
       "      <th>Close</th>\n",
       "    </tr>\n",
       "    <tr>\n",
       "      <th>Date</th>\n",
       "      <th></th>\n",
       "    </tr>\n",
       "  </thead>\n",
       "  <tbody>\n",
       "    <tr>\n",
       "      <th>2021-01-04 00:00:00-03:00</th>\n",
       "      <td>118558.0</td>\n",
       "    </tr>\n",
       "    <tr>\n",
       "      <th>2021-01-05 00:00:00-03:00</th>\n",
       "      <td>119223.0</td>\n",
       "    </tr>\n",
       "    <tr>\n",
       "      <th>2021-01-06 00:00:00-03:00</th>\n",
       "      <td>119851.0</td>\n",
       "    </tr>\n",
       "    <tr>\n",
       "      <th>2021-01-07 00:00:00-03:00</th>\n",
       "      <td>121956.0</td>\n",
       "    </tr>\n",
       "    <tr>\n",
       "      <th>2021-01-08 00:00:00-03:00</th>\n",
       "      <td>125077.0</td>\n",
       "    </tr>\n",
       "  </tbody>\n",
       "</table>\n",
       "</div>"
      ],
      "text/plain": [
       "                              Close\n",
       "Date                               \n",
       "2021-01-04 00:00:00-03:00  118558.0\n",
       "2021-01-05 00:00:00-03:00  119223.0\n",
       "2021-01-06 00:00:00-03:00  119851.0\n",
       "2021-01-07 00:00:00-03:00  121956.0\n",
       "2021-01-08 00:00:00-03:00  125077.0"
      ]
     },
     "execution_count": 18,
     "metadata": {},
     "output_type": "execute_result"
    }
   ],
   "source": [
    "df[['Close']].head()"
   ]
  },
  {
   "cell_type": "code",
   "execution_count": 12,
   "id": "5981d12b",
   "metadata": {},
   "outputs": [],
   "source": [
    "decomposicao = seasonal_decompose(df[['Close']], model='additive', period=30, extrapolate_trend=30)"
   ]
  },
  {
   "cell_type": "code",
   "execution_count": 22,
   "id": "fb0504a1",
   "metadata": {
    "scrolled": true
   },
   "outputs": [
    {
     "data": {
      "text/plain": [
       "<AxesSubplot:xlabel='Date'>"
      ]
     },
     "execution_count": 22,
     "metadata": {},
     "output_type": "execute_result"
    },
    {
     "data": {
      "image/png": "[encoded data removed]",
      "text/plain": [
       "<Figure size 432x288 with 1 Axes>"
      ]
     },
     "metadata": {
      "needs_background": "light"
     },
     "output_type": "display_data"
    }
   ],
   "source": [
    "df[['Close']].plot()"
   ]
  },
  {
   "cell_type": "code",
   "execution_count": 26,
   "id": "f7d39cfd",
   "metadata": {},
   "outputs": [
    {
     "data": {
      "text/plain": [
       "Date\n",
       "2021-01-04 00:00:00-03:00    118558.0\n",
       "2021-01-05 00:00:00-03:00    119223.0\n",
       "2021-01-06 00:00:00-03:00    119851.0\n",
       "2021-01-07 00:00:00-03:00    121956.0\n",
       "2021-01-08 00:00:00-03:00    125077.0\n",
       "Name: Close, dtype: float64"
      ]
     },
     "execution_count": 26,
     "metadata": {},
     "output_type": "execute_result"
    }
   ],
   "source": [
    "df['Close'].head()"
   ]
  },
  {
   "cell_type": "code",
   "execution_count": 25,
   "id": "c8f68917",
   "metadata": {
    "scrolled": false
   },
   "outputs": [
    {
     "data": {
      "text/plain": [
       "Date\n",
       "2021-01-04 00:00:00-03:00    118558.0\n",
       "2021-01-05 00:00:00-03:00    119223.0\n",
       "2021-01-06 00:00:00-03:00    119851.0\n",
       "2021-01-07 00:00:00-03:00    121956.0\n",
       "2021-01-08 00:00:00-03:00    125077.0\n",
       "                               ...   \n",
       "2023-12-21 00:00:00-03:00    132182.0\n",
       "2023-12-22 00:00:00-03:00    132753.0\n",
       "2023-12-26 00:00:00-03:00    133533.0\n",
       "2023-12-27 00:00:00-03:00    134194.0\n",
       "2023-12-28 00:00:00-03:00    134185.0\n",
       "Length: 745, dtype: float64"
      ]
     },
     "execution_count": 25,
     "metadata": {},
     "output_type": "execute_result"
    }
   ],
   "source": [
    "decomposicao.seasonal + decomposicao.resid + decomposicao.trend"
   ]
  },
  {
   "cell_type": "code",
   "execution_count": 27,
   "id": "72baf1d0",
   "metadata": {},
   "outputs": [
    {
     "data": {
      "text/plain": [
       "Date\n",
       "2021-01-04 00:00:00-03:00    122362.934341\n",
       "2021-01-05 00:00:00-03:00    122166.804147\n",
       "2021-01-06 00:00:00-03:00    121970.673952\n",
       "2021-01-07 00:00:00-03:00    121774.543757\n",
       "2021-01-08 00:00:00-03:00    121578.413562\n",
       "Name: trend, dtype: float64"
      ]
     },
     "execution_count": 27,
     "metadata": {},
     "output_type": "execute_result"
    }
   ],
   "source": [
    "decomposicao.trend.iloc[0:5]"
   ]
  },
  {
   "cell_type": "code",
   "execution_count": 30,
   "id": "70ff272f",
   "metadata": {},
   "outputs": [
    {
     "data": {
      "image/png": "[encoded data removed]",
      "text/plain": [
       "<Figure size 432x288 with 4 Axes>"
      ]
     },
     "metadata": {
      "needs_background": "light"
     },
     "output_type": "display_data"
    }
   ],
   "source": [
    "decomposicao.plot();"
   ]
  },
  {
   "cell_type": "code",
   "execution_count": 13,
   "id": "f0f96461",
   "metadata": {},
   "outputs": [
    {
     "data": {
      "text/plain": [
       "Date\n",
       "2021-01-04 00:00:00-03:00     66.949041\n",
       "2021-01-05 00:00:00-03:00   -138.814418\n",
       "2021-01-06 00:00:00-03:00   -451.639210\n",
       "2021-01-07 00:00:00-03:00   -318.163336\n",
       "2021-01-08 00:00:00-03:00   -397.400128\n",
       "                                ...    \n",
       "2023-12-21 00:00:00-03:00    289.799773\n",
       "2023-12-22 00:00:00-03:00    439.359205\n",
       "2023-12-26 00:00:00-03:00   -200.160697\n",
       "2023-12-27 00:00:00-03:00    -49.185266\n",
       "2023-12-28 00:00:00-03:00   -213.648501\n",
       "Name: seasonal, Length: 745, dtype: float64"
      ]
     },
     "execution_count": 13,
     "metadata": {},
     "output_type": "execute_result"
    }
   ],
   "source": [
    "decomposicao.seasonal"
   ]
  },
  {
   "cell_type": "code",
   "execution_count": 17,
   "id": "c80d8642",
   "metadata": {},
   "outputs": [
    {
     "data": {
      "text/plain": [
       "[<matplotlib.lines.Line2D at 0x2985e909be0>]"
      ]
     },
     "execution_count": 17,
     "metadata": {},
     "output_type": "execute_result"
    },
    {
     "data": {
      "image/png": "[encoded data removed]",
      "text/plain": [
       "<Figure size 1080x576 with 1 Axes>"
      ]
     },
     "metadata": {
      "needs_background": "light"
     },
     "output_type": "display_data"
    }
   ],
   "source": [
    "ax, fig = plt.subplots(figsize=[15,8])\n",
    "plt.plot(decomposicao.observed)\n",
    "plt.plot(decomposicao.trend)"
   ]
  },
  {
   "cell_type": "markdown",
   "id": "d3c34758",
   "metadata": {},
   "source": [
    "# 3) Calculo de média móvel"
   ]
  },
  {
   "cell_type": "code",
   "execution_count": 18,
   "id": "a3b1005e",
   "metadata": {},
   "outputs": [
    {
     "data": {
      "text/plain": [
       "Date\n",
       "2021-01-04 00:00:00-03:00    118558.0\n",
       "2021-01-05 00:00:00-03:00    119223.0\n",
       "2021-01-06 00:00:00-03:00    119851.0\n",
       "2021-01-07 00:00:00-03:00    121956.0\n",
       "2021-01-08 00:00:00-03:00    125077.0\n",
       "                               ...   \n",
       "2023-12-21 00:00:00-03:00    132182.0\n",
       "2023-12-22 00:00:00-03:00    132753.0\n",
       "2023-12-26 00:00:00-03:00    133533.0\n",
       "2023-12-27 00:00:00-03:00    134194.0\n",
       "2023-12-28 00:00:00-03:00    134185.0\n",
       "Name: Close, Length: 745, dtype: float64"
      ]
     },
     "execution_count": 18,
     "metadata": {},
     "output_type": "execute_result"
    }
   ],
   "source": [
    "df['Close']"
   ]
  },
  {
   "cell_type": "code",
   "execution_count": 8,
   "id": "44e6f742",
   "metadata": {},
   "outputs": [
    {
     "data": {
      "text/plain": [
       "Date\n",
       "2021-01-04 00:00:00-03:00              NaN\n",
       "2021-01-05 00:00:00-03:00              NaN\n",
       "2021-01-06 00:00:00-03:00              NaN\n",
       "2021-01-07 00:00:00-03:00              NaN\n",
       "2021-01-08 00:00:00-03:00              NaN\n",
       "                                 ...      \n",
       "2023-12-21 00:00:00-03:00    130917.857143\n",
       "2023-12-22 00:00:00-03:00    131387.571429\n",
       "2023-12-26 00:00:00-03:00    131772.000000\n",
       "2023-12-27 00:00:00-03:00    132343.000000\n",
       "2023-12-28 00:00:00-03:00    132786.000000\n",
       "Name: Close, Length: 745, dtype: float64"
      ]
     },
     "execution_count": 8,
     "metadata": {},
     "output_type": "execute_result"
    }
   ],
   "source": [
    "df['Close'].rolling(7).mean()"
   ]
  },
  {
   "cell_type": "code",
   "execution_count": 9,
   "id": "8d82659a",
   "metadata": {},
   "outputs": [],
   "source": [
    "media_movel7d = df['Close'].rolling(7).mean()\n",
    "media_movel14d = df['Close'].rolling(14).mean()\n",
    "media_movel21d = df['Close'].rolling(21).mean()"
   ]
  },
  {
   "cell_type": "code",
   "execution_count": 10,
   "id": "323bb8df",
   "metadata": {},
   "outputs": [
    {
     "data": {
      "text/plain": [
       "[<matplotlib.lines.Line2D at 0x2985c4c7760>]"
      ]
     },
     "execution_count": 10,
     "metadata": {},
     "output_type": "execute_result"
    },
    {
     "data": {
      "image/png": "[encoded data removed]",
      "text/plain": [
       "<Figure size 864x360 with 1 Axes>"
      ]
     },
     "metadata": {
      "needs_background": "light"
     },
     "output_type": "display_data"
    }
   ],
   "source": [
    "fig, aux = plt.subplots(figsize=(12,5))\n",
    "plt.plot(media_movel7d, 'green')\n",
    "plt.plot(media_movel14d, 'red')\n",
    "plt.plot(media_movel7d, 'black')\n",
    "plt.plot(df['Close'])"
   ]
  },
  {
   "cell_type": "markdown",
   "id": "9fa9e030",
   "metadata": {},
   "source": [
    "# 4)  Extração de features"
   ]
  },
  {
   "cell_type": "code",
   "execution_count": 19,
   "id": "f3991153",
   "metadata": {},
   "outputs": [
    {
     "data": {
      "text/html": [
       "<div>\n",
       "<style scoped>\n",
       "    .dataframe tbody tr th:only-of-type {\n",
       "        vertical-align: middle;\n",
       "    }\n",
       "\n",
       "    .dataframe tbody tr th {\n",
       "        vertical-align: top;\n",
       "    }\n",
       "\n",
       "    .dataframe thead th {\n",
       "        text-align: right;\n",
       "    }\n",
       "</style>\n",
       "<table border=\"1\" class=\"dataframe\">\n",
       "  <thead>\n",
       "    <tr style=\"text-align: right;\">\n",
       "      <th></th>\n",
       "      <th>Open</th>\n",
       "      <th>High</th>\n",
       "      <th>Low</th>\n",
       "      <th>Close</th>\n",
       "      <th>Volume</th>\n",
       "      <th>Dividends</th>\n",
       "      <th>Stock Splits</th>\n",
       "    </tr>\n",
       "    <tr>\n",
       "      <th>Date</th>\n",
       "      <th></th>\n",
       "      <th></th>\n",
       "      <th></th>\n",
       "      <th></th>\n",
       "      <th></th>\n",
       "      <th></th>\n",
       "      <th></th>\n",
       "    </tr>\n",
       "  </thead>\n",
       "  <tbody>\n",
       "    <tr>\n",
       "      <th>2021-01-04 00:00:00-03:00</th>\n",
       "      <td>119024.0</td>\n",
       "      <td>120354.0</td>\n",
       "      <td>118062.0</td>\n",
       "      <td>118558.0</td>\n",
       "      <td>8741400</td>\n",
       "      <td>0.0</td>\n",
       "      <td>0.0</td>\n",
       "    </tr>\n",
       "    <tr>\n",
       "      <th>2021-01-05 00:00:00-03:00</th>\n",
       "      <td>118835.0</td>\n",
       "      <td>119790.0</td>\n",
       "      <td>116756.0</td>\n",
       "      <td>119223.0</td>\n",
       "      <td>9257100</td>\n",
       "      <td>0.0</td>\n",
       "      <td>0.0</td>\n",
       "    </tr>\n",
       "    <tr>\n",
       "      <th>2021-01-06 00:00:00-03:00</th>\n",
       "      <td>119377.0</td>\n",
       "      <td>120924.0</td>\n",
       "      <td>118917.0</td>\n",
       "      <td>119851.0</td>\n",
       "      <td>11638200</td>\n",
       "      <td>0.0</td>\n",
       "      <td>0.0</td>\n",
       "    </tr>\n",
       "    <tr>\n",
       "      <th>2021-01-07 00:00:00-03:00</th>\n",
       "      <td>119103.0</td>\n",
       "      <td>121983.0</td>\n",
       "      <td>119101.0</td>\n",
       "      <td>121956.0</td>\n",
       "      <td>11774800</td>\n",
       "      <td>0.0</td>\n",
       "      <td>0.0</td>\n",
       "    </tr>\n",
       "    <tr>\n",
       "      <th>2021-01-08 00:00:00-03:00</th>\n",
       "      <td>122387.0</td>\n",
       "      <td>125324.0</td>\n",
       "      <td>122386.0</td>\n",
       "      <td>125077.0</td>\n",
       "      <td>11085800</td>\n",
       "      <td>0.0</td>\n",
       "      <td>0.0</td>\n",
       "    </tr>\n",
       "  </tbody>\n",
       "</table>\n",
       "</div>"
      ],
      "text/plain": [
       "                               Open      High       Low     Close    Volume  \\\n",
       "Date                                                                          \n",
       "2021-01-04 00:00:00-03:00  119024.0  120354.0  118062.0  118558.0   8741400   \n",
       "2021-01-05 00:00:00-03:00  118835.0  119790.0  116756.0  119223.0   9257100   \n",
       "2021-01-06 00:00:00-03:00  119377.0  120924.0  118917.0  119851.0  11638200   \n",
       "2021-01-07 00:00:00-03:00  119103.0  121983.0  119101.0  121956.0  11774800   \n",
       "2021-01-08 00:00:00-03:00  122387.0  125324.0  122386.0  125077.0  11085800   \n",
       "\n",
       "                           Dividends  Stock Splits  \n",
       "Date                                                \n",
       "2021-01-04 00:00:00-03:00        0.0           0.0  \n",
       "2021-01-05 00:00:00-03:00        0.0           0.0  \n",
       "2021-01-06 00:00:00-03:00        0.0           0.0  \n",
       "2021-01-07 00:00:00-03:00        0.0           0.0  \n",
       "2021-01-08 00:00:00-03:00        0.0           0.0  "
      ]
     },
     "execution_count": 19,
     "metadata": {},
     "output_type": "execute_result"
    }
   ],
   "source": [
    "df.head()"
   ]
  },
  {
   "cell_type": "code",
   "execution_count": 21,
   "id": "2e96cf0e",
   "metadata": {},
   "outputs": [],
   "source": [
    "df.reset_index(inplace=True)"
   ]
  },
  {
   "cell_type": "code",
   "execution_count": 22,
   "id": "c5a581f0",
   "metadata": {},
   "outputs": [
    {
     "data": {
      "text/html": [
       "<div>\n",
       "<style scoped>\n",
       "    .dataframe tbody tr th:only-of-type {\n",
       "        vertical-align: middle;\n",
       "    }\n",
       "\n",
       "    .dataframe tbody tr th {\n",
       "        vertical-align: top;\n",
       "    }\n",
       "\n",
       "    .dataframe thead th {\n",
       "        text-align: right;\n",
       "    }\n",
       "</style>\n",
       "<table border=\"1\" class=\"dataframe\">\n",
       "  <thead>\n",
       "    <tr style=\"text-align: right;\">\n",
       "      <th></th>\n",
       "      <th>Date</th>\n",
       "      <th>Open</th>\n",
       "      <th>High</th>\n",
       "      <th>Low</th>\n",
       "      <th>Close</th>\n",
       "      <th>Volume</th>\n",
       "      <th>Dividends</th>\n",
       "      <th>Stock Splits</th>\n",
       "    </tr>\n",
       "  </thead>\n",
       "  <tbody>\n",
       "    <tr>\n",
       "      <th>0</th>\n",
       "      <td>2021-01-04 00:00:00-03:00</td>\n",
       "      <td>119024.0</td>\n",
       "      <td>120354.0</td>\n",
       "      <td>118062.0</td>\n",
       "      <td>118558.0</td>\n",
       "      <td>8741400</td>\n",
       "      <td>0.0</td>\n",
       "      <td>0.0</td>\n",
       "    </tr>\n",
       "    <tr>\n",
       "      <th>1</th>\n",
       "      <td>2021-01-05 00:00:00-03:00</td>\n",
       "      <td>118835.0</td>\n",
       "      <td>119790.0</td>\n",
       "      <td>116756.0</td>\n",
       "      <td>119223.0</td>\n",
       "      <td>9257100</td>\n",
       "      <td>0.0</td>\n",
       "      <td>0.0</td>\n",
       "    </tr>\n",
       "    <tr>\n",
       "      <th>2</th>\n",
       "      <td>2021-01-06 00:00:00-03:00</td>\n",
       "      <td>119377.0</td>\n",
       "      <td>120924.0</td>\n",
       "      <td>118917.0</td>\n",
       "      <td>119851.0</td>\n",
       "      <td>11638200</td>\n",
       "      <td>0.0</td>\n",
       "      <td>0.0</td>\n",
       "    </tr>\n",
       "    <tr>\n",
       "      <th>3</th>\n",
       "      <td>2021-01-07 00:00:00-03:00</td>\n",
       "      <td>119103.0</td>\n",
       "      <td>121983.0</td>\n",
       "      <td>119101.0</td>\n",
       "      <td>121956.0</td>\n",
       "      <td>11774800</td>\n",
       "      <td>0.0</td>\n",
       "      <td>0.0</td>\n",
       "    </tr>\n",
       "    <tr>\n",
       "      <th>4</th>\n",
       "      <td>2021-01-08 00:00:00-03:00</td>\n",
       "      <td>122387.0</td>\n",
       "      <td>125324.0</td>\n",
       "      <td>122386.0</td>\n",
       "      <td>125077.0</td>\n",
       "      <td>11085800</td>\n",
       "      <td>0.0</td>\n",
       "      <td>0.0</td>\n",
       "    </tr>\n",
       "  </tbody>\n",
       "</table>\n",
       "</div>"
      ],
      "text/plain": [
       "                       Date      Open      High       Low     Close    Volume  \\\n",
       "0 2021-01-04 00:00:00-03:00  119024.0  120354.0  118062.0  118558.0   8741400   \n",
       "1 2021-01-05 00:00:00-03:00  118835.0  119790.0  116756.0  119223.0   9257100   \n",
       "2 2021-01-06 00:00:00-03:00  119377.0  120924.0  118917.0  119851.0  11638200   \n",
       "3 2021-01-07 00:00:00-03:00  119103.0  121983.0  119101.0  121956.0  11774800   \n",
       "4 2021-01-08 00:00:00-03:00  122387.0  125324.0  122386.0  125077.0  11085800   \n",
       "\n",
       "   Dividends  Stock Splits  \n",
       "0        0.0           0.0  \n",
       "1        0.0           0.0  \n",
       "2        0.0           0.0  \n",
       "3        0.0           0.0  \n",
       "4        0.0           0.0  "
      ]
     },
     "execution_count": 22,
     "metadata": {},
     "output_type": "execute_result"
    }
   ],
   "source": [
    "df.head()"
   ]
  },
  {
   "cell_type": "code",
   "execution_count": 24,
   "id": "5a875c3a",
   "metadata": {},
   "outputs": [],
   "source": [
    "df['year'] = df['Date'].dt.year\n",
    "df['month'] = df['Date'].dt.month\n",
    "df['day'] = df['Date'].dt.day"
   ]
  },
  {
   "cell_type": "code",
   "execution_count": 25,
   "id": "13b41d7b",
   "metadata": {},
   "outputs": [
    {
     "data": {
      "text/html": [
       "<div>\n",
       "<style scoped>\n",
       "    .dataframe tbody tr th:only-of-type {\n",
       "        vertical-align: middle;\n",
       "    }\n",
       "\n",
       "    .dataframe tbody tr th {\n",
       "        vertical-align: top;\n",
       "    }\n",
       "\n",
       "    .dataframe thead th {\n",
       "        text-align: right;\n",
       "    }\n",
       "</style>\n",
       "<table border=\"1\" class=\"dataframe\">\n",
       "  <thead>\n",
       "    <tr style=\"text-align: right;\">\n",
       "      <th></th>\n",
       "      <th>Date</th>\n",
       "      <th>Open</th>\n",
       "      <th>High</th>\n",
       "      <th>Low</th>\n",
       "      <th>Close</th>\n",
       "      <th>Volume</th>\n",
       "      <th>Dividends</th>\n",
       "      <th>Stock Splits</th>\n",
       "      <th>year</th>\n",
       "      <th>month</th>\n",
       "      <th>day</th>\n",
       "    </tr>\n",
       "  </thead>\n",
       "  <tbody>\n",
       "    <tr>\n",
       "      <th>0</th>\n",
       "      <td>2021-01-04 00:00:00-03:00</td>\n",
       "      <td>119024.0</td>\n",
       "      <td>120354.0</td>\n",
       "      <td>118062.0</td>\n",
       "      <td>118558.0</td>\n",
       "      <td>8741400</td>\n",
       "      <td>0.0</td>\n",
       "      <td>0.0</td>\n",
       "      <td>2021</td>\n",
       "      <td>1</td>\n",
       "      <td>4</td>\n",
       "    </tr>\n",
       "    <tr>\n",
       "      <th>1</th>\n",
       "      <td>2021-01-05 00:00:00-03:00</td>\n",
       "      <td>118835.0</td>\n",
       "      <td>119790.0</td>\n",
       "      <td>116756.0</td>\n",
       "      <td>119223.0</td>\n",
       "      <td>9257100</td>\n",
       "      <td>0.0</td>\n",
       "      <td>0.0</td>\n",
       "      <td>2021</td>\n",
       "      <td>1</td>\n",
       "      <td>5</td>\n",
       "    </tr>\n",
       "    <tr>\n",
       "      <th>2</th>\n",
       "      <td>2021-01-06 00:00:00-03:00</td>\n",
       "      <td>119377.0</td>\n",
       "      <td>120924.0</td>\n",
       "      <td>118917.0</td>\n",
       "      <td>119851.0</td>\n",
       "      <td>11638200</td>\n",
       "      <td>0.0</td>\n",
       "      <td>0.0</td>\n",
       "      <td>2021</td>\n",
       "      <td>1</td>\n",
       "      <td>6</td>\n",
       "    </tr>\n",
       "    <tr>\n",
       "      <th>3</th>\n",
       "      <td>2021-01-07 00:00:00-03:00</td>\n",
       "      <td>119103.0</td>\n",
       "      <td>121983.0</td>\n",
       "      <td>119101.0</td>\n",
       "      <td>121956.0</td>\n",
       "      <td>11774800</td>\n",
       "      <td>0.0</td>\n",
       "      <td>0.0</td>\n",
       "      <td>2021</td>\n",
       "      <td>1</td>\n",
       "      <td>7</td>\n",
       "    </tr>\n",
       "    <tr>\n",
       "      <th>4</th>\n",
       "      <td>2021-01-08 00:00:00-03:00</td>\n",
       "      <td>122387.0</td>\n",
       "      <td>125324.0</td>\n",
       "      <td>122386.0</td>\n",
       "      <td>125077.0</td>\n",
       "      <td>11085800</td>\n",
       "      <td>0.0</td>\n",
       "      <td>0.0</td>\n",
       "      <td>2021</td>\n",
       "      <td>1</td>\n",
       "      <td>8</td>\n",
       "    </tr>\n",
       "  </tbody>\n",
       "</table>\n",
       "</div>"
      ],
      "text/plain": [
       "                       Date      Open      High       Low     Close    Volume  \\\n",
       "0 2021-01-04 00:00:00-03:00  119024.0  120354.0  118062.0  118558.0   8741400   \n",
       "1 2021-01-05 00:00:00-03:00  118835.0  119790.0  116756.0  119223.0   9257100   \n",
       "2 2021-01-06 00:00:00-03:00  119377.0  120924.0  118917.0  119851.0  11638200   \n",
       "3 2021-01-07 00:00:00-03:00  119103.0  121983.0  119101.0  121956.0  11774800   \n",
       "4 2021-01-08 00:00:00-03:00  122387.0  125324.0  122386.0  125077.0  11085800   \n",
       "\n",
       "   Dividends  Stock Splits  year  month  day  \n",
       "0        0.0           0.0  2021      1    4  \n",
       "1        0.0           0.0  2021      1    5  \n",
       "2        0.0           0.0  2021      1    6  \n",
       "3        0.0           0.0  2021      1    7  \n",
       "4        0.0           0.0  2021      1    8  "
      ]
     },
     "execution_count": 25,
     "metadata": {},
     "output_type": "execute_result"
    }
   ],
   "source": [
    "df.head()"
   ]
  },
  {
   "cell_type": "code",
   "execution_count": 26,
   "id": "7a8867c5",
   "metadata": {},
   "outputs": [
    {
     "data": {
      "text/html": [
       "<div>\n",
       "<style scoped>\n",
       "    .dataframe tbody tr th:only-of-type {\n",
       "        vertical-align: middle;\n",
       "    }\n",
       "\n",
       "    .dataframe tbody tr th {\n",
       "        vertical-align: top;\n",
       "    }\n",
       "\n",
       "    .dataframe thead th {\n",
       "        text-align: right;\n",
       "    }\n",
       "</style>\n",
       "<table border=\"1\" class=\"dataframe\">\n",
       "  <thead>\n",
       "    <tr style=\"text-align: right;\">\n",
       "      <th></th>\n",
       "      <th>Close</th>\n",
       "    </tr>\n",
       "  </thead>\n",
       "  <tbody>\n",
       "    <tr>\n",
       "      <th>0</th>\n",
       "      <td>118558.0</td>\n",
       "    </tr>\n",
       "    <tr>\n",
       "      <th>1</th>\n",
       "      <td>119223.0</td>\n",
       "    </tr>\n",
       "    <tr>\n",
       "      <th>2</th>\n",
       "      <td>119851.0</td>\n",
       "    </tr>\n",
       "    <tr>\n",
       "      <th>3</th>\n",
       "      <td>121956.0</td>\n",
       "    </tr>\n",
       "    <tr>\n",
       "      <th>4</th>\n",
       "      <td>125077.0</td>\n",
       "    </tr>\n",
       "    <tr>\n",
       "      <th>...</th>\n",
       "      <td>...</td>\n",
       "    </tr>\n",
       "    <tr>\n",
       "      <th>740</th>\n",
       "      <td>132182.0</td>\n",
       "    </tr>\n",
       "    <tr>\n",
       "      <th>741</th>\n",
       "      <td>132753.0</td>\n",
       "    </tr>\n",
       "    <tr>\n",
       "      <th>742</th>\n",
       "      <td>133533.0</td>\n",
       "    </tr>\n",
       "    <tr>\n",
       "      <th>743</th>\n",
       "      <td>134194.0</td>\n",
       "    </tr>\n",
       "    <tr>\n",
       "      <th>744</th>\n",
       "      <td>134185.0</td>\n",
       "    </tr>\n",
       "  </tbody>\n",
       "</table>\n",
       "<p>745 rows × 1 columns</p>\n",
       "</div>"
      ],
      "text/plain": [
       "        Close\n",
       "0    118558.0\n",
       "1    119223.0\n",
       "2    119851.0\n",
       "3    121956.0\n",
       "4    125077.0\n",
       "..        ...\n",
       "740  132182.0\n",
       "741  132753.0\n",
       "742  133533.0\n",
       "743  134194.0\n",
       "744  134185.0\n",
       "\n",
       "[745 rows x 1 columns]"
      ]
     },
     "execution_count": 26,
     "metadata": {},
     "output_type": "execute_result"
    }
   ],
   "source": [
    "df[['Close']]"
   ]
  },
  {
   "cell_type": "code",
   "execution_count": 27,
   "id": "38576822",
   "metadata": {},
   "outputs": [
    {
     "data": {
      "text/plain": [
       "0    118558.0\n",
       "1    119223.0\n",
       "2    119851.0\n",
       "3    121956.0\n",
       "4    125077.0\n",
       "Name: Close, dtype: float64"
      ]
     },
     "execution_count": 27,
     "metadata": {},
     "output_type": "execute_result"
    }
   ],
   "source": [
    "df['Close'].head()"
   ]
  },
  {
   "cell_type": "code",
   "execution_count": 28,
   "id": "f5d527d0",
   "metadata": {},
   "outputs": [
    {
     "data": {
      "text/plain": [
       "0           NaN\n",
       "1      118558.0\n",
       "2      119223.0\n",
       "3      119851.0\n",
       "4      121956.0\n",
       "         ...   \n",
       "740    130804.0\n",
       "741    132182.0\n",
       "742    132753.0\n",
       "743    133533.0\n",
       "744    134194.0\n",
       "Name: Close, Length: 745, dtype: float64"
      ]
     },
     "execution_count": 28,
     "metadata": {},
     "output_type": "execute_result"
    }
   ],
   "source": [
    "df['Close'].shift()"
   ]
  },
  {
   "cell_type": "code",
   "execution_count": 29,
   "id": "3b5612d0",
   "metadata": {},
   "outputs": [],
   "source": [
    "df['rentabilidade'] = df['Close'] / df['Close'].shift() * 100 -100"
   ]
  },
  {
   "cell_type": "code",
   "execution_count": 30,
   "id": "af57bbd0",
   "metadata": {},
   "outputs": [
    {
     "data": {
      "text/html": [
       "<div>\n",
       "<style scoped>\n",
       "    .dataframe tbody tr th:only-of-type {\n",
       "        vertical-align: middle;\n",
       "    }\n",
       "\n",
       "    .dataframe tbody tr th {\n",
       "        vertical-align: top;\n",
       "    }\n",
       "\n",
       "    .dataframe thead th {\n",
       "        text-align: right;\n",
       "    }\n",
       "</style>\n",
       "<table border=\"1\" class=\"dataframe\">\n",
       "  <thead>\n",
       "    <tr style=\"text-align: right;\">\n",
       "      <th></th>\n",
       "      <th>Date</th>\n",
       "      <th>Open</th>\n",
       "      <th>High</th>\n",
       "      <th>Low</th>\n",
       "      <th>Close</th>\n",
       "      <th>Volume</th>\n",
       "      <th>Dividends</th>\n",
       "      <th>Stock Splits</th>\n",
       "      <th>year</th>\n",
       "      <th>month</th>\n",
       "      <th>day</th>\n",
       "      <th>rentabilidade</th>\n",
       "    </tr>\n",
       "  </thead>\n",
       "  <tbody>\n",
       "    <tr>\n",
       "      <th>0</th>\n",
       "      <td>2021-01-04 00:00:00-03:00</td>\n",
       "      <td>119024.0</td>\n",
       "      <td>120354.0</td>\n",
       "      <td>118062.0</td>\n",
       "      <td>118558.0</td>\n",
       "      <td>8741400</td>\n",
       "      <td>0.0</td>\n",
       "      <td>0.0</td>\n",
       "      <td>2021</td>\n",
       "      <td>1</td>\n",
       "      <td>4</td>\n",
       "      <td>NaN</td>\n",
       "    </tr>\n",
       "    <tr>\n",
       "      <th>1</th>\n",
       "      <td>2021-01-05 00:00:00-03:00</td>\n",
       "      <td>118835.0</td>\n",
       "      <td>119790.0</td>\n",
       "      <td>116756.0</td>\n",
       "      <td>119223.0</td>\n",
       "      <td>9257100</td>\n",
       "      <td>0.0</td>\n",
       "      <td>0.0</td>\n",
       "      <td>2021</td>\n",
       "      <td>1</td>\n",
       "      <td>5</td>\n",
       "      <td>0.560907</td>\n",
       "    </tr>\n",
       "    <tr>\n",
       "      <th>2</th>\n",
       "      <td>2021-01-06 00:00:00-03:00</td>\n",
       "      <td>119377.0</td>\n",
       "      <td>120924.0</td>\n",
       "      <td>118917.0</td>\n",
       "      <td>119851.0</td>\n",
       "      <td>11638200</td>\n",
       "      <td>0.0</td>\n",
       "      <td>0.0</td>\n",
       "      <td>2021</td>\n",
       "      <td>1</td>\n",
       "      <td>6</td>\n",
       "      <td>0.526744</td>\n",
       "    </tr>\n",
       "    <tr>\n",
       "      <th>3</th>\n",
       "      <td>2021-01-07 00:00:00-03:00</td>\n",
       "      <td>119103.0</td>\n",
       "      <td>121983.0</td>\n",
       "      <td>119101.0</td>\n",
       "      <td>121956.0</td>\n",
       "      <td>11774800</td>\n",
       "      <td>0.0</td>\n",
       "      <td>0.0</td>\n",
       "      <td>2021</td>\n",
       "      <td>1</td>\n",
       "      <td>7</td>\n",
       "      <td>1.756347</td>\n",
       "    </tr>\n",
       "    <tr>\n",
       "      <th>4</th>\n",
       "      <td>2021-01-08 00:00:00-03:00</td>\n",
       "      <td>122387.0</td>\n",
       "      <td>125324.0</td>\n",
       "      <td>122386.0</td>\n",
       "      <td>125077.0</td>\n",
       "      <td>11085800</td>\n",
       "      <td>0.0</td>\n",
       "      <td>0.0</td>\n",
       "      <td>2021</td>\n",
       "      <td>1</td>\n",
       "      <td>8</td>\n",
       "      <td>2.559120</td>\n",
       "    </tr>\n",
       "  </tbody>\n",
       "</table>\n",
       "</div>"
      ],
      "text/plain": [
       "                       Date      Open      High       Low     Close    Volume  \\\n",
       "0 2021-01-04 00:00:00-03:00  119024.0  120354.0  118062.0  118558.0   8741400   \n",
       "1 2021-01-05 00:00:00-03:00  118835.0  119790.0  116756.0  119223.0   9257100   \n",
       "2 2021-01-06 00:00:00-03:00  119377.0  120924.0  118917.0  119851.0  11638200   \n",
       "3 2021-01-07 00:00:00-03:00  119103.0  121983.0  119101.0  121956.0  11774800   \n",
       "4 2021-01-08 00:00:00-03:00  122387.0  125324.0  122386.0  125077.0  11085800   \n",
       "\n",
       "   Dividends  Stock Splits  year  month  day  rentabilidade  \n",
       "0        0.0           0.0  2021      1    4            NaN  \n",
       "1        0.0           0.0  2021      1    5       0.560907  \n",
       "2        0.0           0.0  2021      1    6       0.526744  \n",
       "3        0.0           0.0  2021      1    7       1.756347  \n",
       "4        0.0           0.0  2021      1    8       2.559120  "
      ]
     },
     "execution_count": 30,
     "metadata": {},
     "output_type": "execute_result"
    }
   ],
   "source": [
    "df.head()"
   ]
  },
  {
   "cell_type": "code",
   "execution_count": 31,
   "id": "da9447df",
   "metadata": {},
   "outputs": [],
   "source": [
    "def features_extraction(df_):\n",
    "    df_['year'] = df_['Date'].dt.year\n",
    "    df_['month'] = df_['Date'].dt.month\n",
    "    df_['day'] = df_['Date'].dt.day \n",
    "    df_['rentabilidade'] = df_['Close'] / df_['Close'].shift() * 100 -100"
   ]
  },
  {
   "cell_type": "code",
   "execution_count": 32,
   "id": "fb30f059",
   "metadata": {},
   "outputs": [],
   "source": [
    "df.reset_index(inplace=True)"
   ]
  },
  {
   "cell_type": "code",
   "execution_count": 33,
   "id": "8affed8b",
   "metadata": {},
   "outputs": [],
   "source": [
    "features_extraction(df)"
   ]
  },
  {
   "cell_type": "code",
   "execution_count": 34,
   "id": "8ac767b6",
   "metadata": {},
   "outputs": [
    {
     "data": {
      "text/html": [
       "<div>\n",
       "<style scoped>\n",
       "    .dataframe tbody tr th:only-of-type {\n",
       "        vertical-align: middle;\n",
       "    }\n",
       "\n",
       "    .dataframe tbody tr th {\n",
       "        vertical-align: top;\n",
       "    }\n",
       "\n",
       "    .dataframe thead th {\n",
       "        text-align: right;\n",
       "    }\n",
       "</style>\n",
       "<table border=\"1\" class=\"dataframe\">\n",
       "  <thead>\n",
       "    <tr style=\"text-align: right;\">\n",
       "      <th></th>\n",
       "      <th>index</th>\n",
       "      <th>Date</th>\n",
       "      <th>Open</th>\n",
       "      <th>High</th>\n",
       "      <th>Low</th>\n",
       "      <th>Close</th>\n",
       "      <th>Volume</th>\n",
       "      <th>Dividends</th>\n",
       "      <th>Stock Splits</th>\n",
       "      <th>year</th>\n",
       "      <th>month</th>\n",
       "      <th>day</th>\n",
       "      <th>rentabilidade</th>\n",
       "    </tr>\n",
       "  </thead>\n",
       "  <tbody>\n",
       "    <tr>\n",
       "      <th>0</th>\n",
       "      <td>0</td>\n",
       "      <td>2021-01-04 00:00:00-03:00</td>\n",
       "      <td>119024.0</td>\n",
       "      <td>120354.0</td>\n",
       "      <td>118062.0</td>\n",
       "      <td>118558.0</td>\n",
       "      <td>8741400</td>\n",
       "      <td>0.0</td>\n",
       "      <td>0.0</td>\n",
       "      <td>2021</td>\n",
       "      <td>1</td>\n",
       "      <td>4</td>\n",
       "      <td>NaN</td>\n",
       "    </tr>\n",
       "    <tr>\n",
       "      <th>1</th>\n",
       "      <td>1</td>\n",
       "      <td>2021-01-05 00:00:00-03:00</td>\n",
       "      <td>118835.0</td>\n",
       "      <td>119790.0</td>\n",
       "      <td>116756.0</td>\n",
       "      <td>119223.0</td>\n",
       "      <td>9257100</td>\n",
       "      <td>0.0</td>\n",
       "      <td>0.0</td>\n",
       "      <td>2021</td>\n",
       "      <td>1</td>\n",
       "      <td>5</td>\n",
       "      <td>0.560907</td>\n",
       "    </tr>\n",
       "    <tr>\n",
       "      <th>2</th>\n",
       "      <td>2</td>\n",
       "      <td>2021-01-06 00:00:00-03:00</td>\n",
       "      <td>119377.0</td>\n",
       "      <td>120924.0</td>\n",
       "      <td>118917.0</td>\n",
       "      <td>119851.0</td>\n",
       "      <td>11638200</td>\n",
       "      <td>0.0</td>\n",
       "      <td>0.0</td>\n",
       "      <td>2021</td>\n",
       "      <td>1</td>\n",
       "      <td>6</td>\n",
       "      <td>0.526744</td>\n",
       "    </tr>\n",
       "    <tr>\n",
       "      <th>3</th>\n",
       "      <td>3</td>\n",
       "      <td>2021-01-07 00:00:00-03:00</td>\n",
       "      <td>119103.0</td>\n",
       "      <td>121983.0</td>\n",
       "      <td>119101.0</td>\n",
       "      <td>121956.0</td>\n",
       "      <td>11774800</td>\n",
       "      <td>0.0</td>\n",
       "      <td>0.0</td>\n",
       "      <td>2021</td>\n",
       "      <td>1</td>\n",
       "      <td>7</td>\n",
       "      <td>1.756347</td>\n",
       "    </tr>\n",
       "    <tr>\n",
       "      <th>4</th>\n",
       "      <td>4</td>\n",
       "      <td>2021-01-08 00:00:00-03:00</td>\n",
       "      <td>122387.0</td>\n",
       "      <td>125324.0</td>\n",
       "      <td>122386.0</td>\n",
       "      <td>125077.0</td>\n",
       "      <td>11085800</td>\n",
       "      <td>0.0</td>\n",
       "      <td>0.0</td>\n",
       "      <td>2021</td>\n",
       "      <td>1</td>\n",
       "      <td>8</td>\n",
       "      <td>2.559120</td>\n",
       "    </tr>\n",
       "  </tbody>\n",
       "</table>\n",
       "</div>"
      ],
      "text/plain": [
       "   index                      Date      Open      High       Low     Close  \\\n",
       "0      0 2021-01-04 00:00:00-03:00  119024.0  120354.0  118062.0  118558.0   \n",
       "1      1 2021-01-05 00:00:00-03:00  118835.0  119790.0  116756.0  119223.0   \n",
       "2      2 2021-01-06 00:00:00-03:00  119377.0  120924.0  118917.0  119851.0   \n",
       "3      3 2021-01-07 00:00:00-03:00  119103.0  121983.0  119101.0  121956.0   \n",
       "4      4 2021-01-08 00:00:00-03:00  122387.0  125324.0  122386.0  125077.0   \n",
       "\n",
       "     Volume  Dividends  Stock Splits  year  month  day  rentabilidade  \n",
       "0   8741400        0.0           0.0  2021      1    4            NaN  \n",
       "1   9257100        0.0           0.0  2021      1    5       0.560907  \n",
       "2  11638200        0.0           0.0  2021      1    6       0.526744  \n",
       "3  11774800        0.0           0.0  2021      1    7       1.756347  \n",
       "4  11085800        0.0           0.0  2021      1    8       2.559120  "
      ]
     },
     "execution_count": 34,
     "metadata": {},
     "output_type": "execute_result"
    }
   ],
   "source": [
    "df.head()"
   ]
  },
  {
   "cell_type": "markdown",
   "id": "b10c41a4",
   "metadata": {},
   "source": [
    "# Hipótese  1) Existe um mês melhor pra investir no ativo?\n",
    "        \n"
   ]
  },
  {
   "cell_type": "code",
   "execution_count": 35,
   "id": "b5b31af6",
   "metadata": {},
   "outputs": [
    {
     "data": {
      "text/plain": [
       "<AxesSubplot:xlabel='month'>"
      ]
     },
     "execution_count": 35,
     "metadata": {},
     "output_type": "execute_result"
    },
    {
     "data": {
      "image/png": "[encoded data removed]",
      "text/plain": [
       "<Figure size 432x288 with 1 Axes>"
      ]
     },
     "metadata": {
      "needs_background": "light"
     },
     "output_type": "display_data"
    }
   ],
   "source": [
    "df.groupby('month').agg({'rentabilidade': 'sum'}).plot(kind='bar')"
   ]
  },
  {
   "cell_type": "code",
   "execution_count": 37,
   "id": "a5f1ec75",
   "metadata": {},
   "outputs": [],
   "source": [
    "df.set_index('Date', inplace=True)"
   ]
  },
  {
   "cell_type": "code",
   "execution_count": 38,
   "id": "8f3cd17f",
   "metadata": {},
   "outputs": [
    {
     "data": {
      "text/plain": [
       "[<matplotlib.lines.Line2D at 0x2985e7eff10>]"
      ]
     },
     "execution_count": 38,
     "metadata": {},
     "output_type": "execute_result"
    },
    {
     "data": {
      "image/png": "[encoded data removed]",
      "text/plain": [
       "<Figure size 576x288 with 1 Axes>"
      ]
     },
     "metadata": {
      "needs_background": "light"
     },
     "output_type": "display_data"
    }
   ],
   "source": [
    "media_movel30d = df['Close'].rolling(30).mean()\n",
    "media_movel90d = df['Close'].rolling(90).mean()\n",
    "fig, ax = plt.subplots(figsize=(8,4))\n",
    "plt.plot(df['Close'])\n",
    "plt.plot(media_movel30d)"
   ]
  },
  {
   "cell_type": "code",
   "execution_count": null,
   "id": "b6016b62",
   "metadata": {},
   "outputs": [],
   "source": []
  }
 ],
 "metadata": {
  "kernelspec": {
   "display_name": "Python 3",
   "language": "python",
   "name": "python3"
  },
  "language_info": {
   "codemirror_mode": {
    "name": "ipython",
    "version": 3
   },
   "file_extension": ".py",
   "mimetype": "text/x-python",
   "name": "python",
   "nbconvert_exporter": "python",
   "pygments_lexer": "ipython3",
   "version": "3.8.8"
  }
 },
 "nbformat": 4,
 "nbformat_minor": 5
}
